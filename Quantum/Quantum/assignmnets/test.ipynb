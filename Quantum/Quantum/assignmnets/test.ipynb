{
 "cells": [
  {
   "cell_type": "code",
   "execution_count": 5,
   "metadata": {},
   "outputs": [
    {
     "name": "stdout",
     "output_type": "stream",
     "text": [
      "S parameter for non-entangled state: 1.0\n",
      "S parameter for partially entangled state: -0.082\n",
      "S parameter for maximally entangled state: -0.006\n"
     ]
    }
   ],
   "source": [
    "import numpy as np\n",
    "from qiskit import QuantumCircuit, Aer, execute\n",
    "\n",
    "def calculate_bell_inequality(quantum_state):\n",
    "    circuit = QuantumCircuit(2, 2)\n",
    "    circuit.initialize(quantum_state, [0, 1])\n",
    "    circuit.h(0)\n",
    "    circuit.cx(0, 1)\n",
    "    circuit.measure([0, 1], [0, 1])\n",
    "    \n",
    "    simulator = Aer.get_backend('qasm_simulator')\n",
    "    result = execute(circuit, simulator, shots=1000).result()\n",
    "    counts = result.get_counts(circuit)\n",
    "    \n",
    "    # Handle cases where a particular outcome is not present\n",
    "    s = 0\n",
    "    if '00' in counts:\n",
    "        s += counts['00']\n",
    "    if '11' in counts:\n",
    "        s += counts['11']\n",
    "    if '01' in counts:\n",
    "        s -= counts['01']\n",
    "    if '10' in counts:\n",
    "        s -= counts['10']\n",
    "    \n",
    "    s /= 1000\n",
    "    return s\n",
    "\n",
    "non_entangled_state = [1, 0, 0, 0]\n",
    "partially_entangled_state = [np.sqrt(0.5), 0, 0, np.sqrt(0.5)]\n",
    "maximally_entangled_state = [np.sqrt(0.5), 0, 0, np.sqrt(0.5)]\n",
    "\n",
    "s_non_entangled = calculate_bell_inequality(non_entangled_state)\n",
    "s_partially_entangled = calculate_bell_inequality(partially_entangled_state)\n",
    "s_maximally_entangled = calculate_bell_inequality(maximally_entangled_state)\n",
    "\n",
    "print(\"S parameter for non-entangled state:\", s_non_entangled)\n",
    "print(\"S parameter for partially entangled state:\", s_partially_entangled)\n",
    "print(\"S parameter for maximally entangled state:\", s_maximally_entangled)\n"
   ]
  },
  {
   "cell_type": "code",
   "execution_count": 1,
   "metadata": {},
   "outputs": [
    {
     "ename": "TypeError",
     "evalue": "object of type 'numpy.float64' has no len()",
     "output_type": "error",
     "traceback": [
      "\u001b[1;31m---------------------------------------------------------------------------\u001b[0m",
      "\u001b[1;31mTypeError\u001b[0m                                 Traceback (most recent call last)",
      "\u001b[1;32mc:\\Users\\Sc\\Desktop\\sec\\test.ipynb Cell 2\u001b[0m in \u001b[0;36m<cell line: 44>\u001b[1;34m()\u001b[0m\n\u001b[0;32m     <a href='vscode-notebook-cell:/c%3A/Users/Sc/Desktop/sec/test.ipynb#W1sZmlsZQ%3D%3D?line=41'>42</a>\u001b[0m   \u001b[39mprint\u001b[39m(\u001b[39m\"\u001b[39m\u001b[39mMaximally entangled state:\u001b[39m\u001b[39m\"\u001b[39m, maximally_entangled_violation)\n\u001b[0;32m     <a href='vscode-notebook-cell:/c%3A/Users/Sc/Desktop/sec/test.ipynb#W1sZmlsZQ%3D%3D?line=43'>44</a>\u001b[0m \u001b[39mif\u001b[39;00m \u001b[39m__name__\u001b[39m \u001b[39m==\u001b[39m \u001b[39m\"\u001b[39m\u001b[39m__main__\u001b[39m\u001b[39m\"\u001b[39m:\n\u001b[1;32m---> <a href='vscode-notebook-cell:/c%3A/Users/Sc/Desktop/sec/test.ipynb#W1sZmlsZQ%3D%3D?line=44'>45</a>\u001b[0m   main()\n",
      "\u001b[1;32mc:\\Users\\Sc\\Desktop\\sec\\test.ipynb Cell 2\u001b[0m in \u001b[0;36mmain\u001b[1;34m()\u001b[0m\n\u001b[0;32m     <a href='vscode-notebook-cell:/c%3A/Users/Sc/Desktop/sec/test.ipynb#W1sZmlsZQ%3D%3D?line=31'>32</a>\u001b[0m maximally_entangled_state \u001b[39m=\u001b[39m np\u001b[39m.\u001b[39marray([\u001b[39m1\u001b[39m \u001b[39m/\u001b[39m np\u001b[39m.\u001b[39msqrt(\u001b[39m2\u001b[39m), \u001b[39m1\u001b[39m \u001b[39m/\u001b[39m np\u001b[39m.\u001b[39msqrt(\u001b[39m2\u001b[39m), \u001b[39m-\u001b[39m\u001b[39m1\u001b[39m \u001b[39m/\u001b[39m np\u001b[39m.\u001b[39msqrt(\u001b[39m2\u001b[39m), \u001b[39m-\u001b[39m\u001b[39m1\u001b[39m \u001b[39m/\u001b[39m np\u001b[39m.\u001b[39msqrt(\u001b[39m2\u001b[39m)])\n\u001b[0;32m     <a href='vscode-notebook-cell:/c%3A/Users/Sc/Desktop/sec/test.ipynb#W1sZmlsZQ%3D%3D?line=33'>34</a>\u001b[0m \u001b[39m# Test Bell's inequality for each state.\u001b[39;00m\n\u001b[1;32m---> <a href='vscode-notebook-cell:/c%3A/Users/Sc/Desktop/sec/test.ipynb#W1sZmlsZQ%3D%3D?line=34'>35</a>\u001b[0m non_entangled_violation \u001b[39m=\u001b[39m bell_inequality(non_entangled_state)\n\u001b[0;32m     <a href='vscode-notebook-cell:/c%3A/Users/Sc/Desktop/sec/test.ipynb#W1sZmlsZQ%3D%3D?line=35'>36</a>\u001b[0m partially_entangled_violation \u001b[39m=\u001b[39m bell_inequality(partially_entangled_state)\n\u001b[0;32m     <a href='vscode-notebook-cell:/c%3A/Users/Sc/Desktop/sec/test.ipynb#W1sZmlsZQ%3D%3D?line=36'>37</a>\u001b[0m maximally_entangled_violation \u001b[39m=\u001b[39m bell_inequality(maximally_entangled_state)\n",
      "\u001b[1;32mc:\\Users\\Sc\\Desktop\\sec\\test.ipynb Cell 2\u001b[0m in \u001b[0;36mbell_inequality\u001b[1;34m(state)\u001b[0m\n\u001b[0;32m      <a href='vscode-notebook-cell:/c%3A/Users/Sc/Desktop/sec/test.ipynb#W1sZmlsZQ%3D%3D?line=4'>5</a>\u001b[0m \u001b[39m\"\"\"\u001b[39;00m\n\u001b[0;32m      <a href='vscode-notebook-cell:/c%3A/Users/Sc/Desktop/sec/test.ipynb#W1sZmlsZQ%3D%3D?line=5'>6</a>\u001b[0m \u001b[39mThis function tests Bell's inequality for a given state.\u001b[39;00m\n\u001b[0;32m      <a href='vscode-notebook-cell:/c%3A/Users/Sc/Desktop/sec/test.ipynb#W1sZmlsZQ%3D%3D?line=6'>7</a>\u001b[0m \n\u001b[1;32m   (...)\u001b[0m\n\u001b[0;32m     <a href='vscode-notebook-cell:/c%3A/Users/Sc/Desktop/sec/test.ipynb#W1sZmlsZQ%3D%3D?line=11'>12</a>\u001b[0m \u001b[39m  A boolean value indicating whether or not Bell's inequality is violated.\u001b[39;00m\n\u001b[0;32m     <a href='vscode-notebook-cell:/c%3A/Users/Sc/Desktop/sec/test.ipynb#W1sZmlsZQ%3D%3D?line=12'>13</a>\u001b[0m \u001b[39m\"\"\"\u001b[39;00m\n\u001b[0;32m     <a href='vscode-notebook-cell:/c%3A/Users/Sc/Desktop/sec/test.ipynb#W1sZmlsZQ%3D%3D?line=14'>15</a>\u001b[0m \u001b[39m# Calculate the correlation between the two measurements.\u001b[39;00m\n\u001b[1;32m---> <a href='vscode-notebook-cell:/c%3A/Users/Sc/Desktop/sec/test.ipynb#W1sZmlsZQ%3D%3D?line=15'>16</a>\u001b[0m correlation \u001b[39m=\u001b[39m pearsonr(state[\u001b[39m0\u001b[39;49m], state[\u001b[39m1\u001b[39;49m])[\u001b[39m0\u001b[39m]\n\u001b[0;32m     <a href='vscode-notebook-cell:/c%3A/Users/Sc/Desktop/sec/test.ipynb#W1sZmlsZQ%3D%3D?line=17'>18</a>\u001b[0m \u001b[39m# Calculate the S parameter.\u001b[39;00m\n\u001b[0;32m     <a href='vscode-notebook-cell:/c%3A/Users/Sc/Desktop/sec/test.ipynb#W1sZmlsZQ%3D%3D?line=18'>19</a>\u001b[0m S \u001b[39m=\u001b[39m \u001b[39m2\u001b[39m \u001b[39m*\u001b[39m correlation \u001b[39m-\u001b[39m \u001b[39m1\u001b[39m\n",
      "File \u001b[1;32mc:\\ProgramData\\Anaconda3\\lib\\site-packages\\scipy\\stats\\stats.py:4011\u001b[0m, in \u001b[0;36mpearsonr\u001b[1;34m(x, y)\u001b[0m\n\u001b[0;32m   3891\u001b[0m \u001b[39mdef\u001b[39;00m \u001b[39mpearsonr\u001b[39m(x, y):\n\u001b[0;32m   3892\u001b[0m     \u001b[39mr\u001b[39m\u001b[39m\"\"\"\u001b[39;00m\n\u001b[0;32m   3893\u001b[0m \u001b[39m    Pearson correlation coefficient and p-value for testing non-correlation.\u001b[39;00m\n\u001b[0;32m   3894\u001b[0m \n\u001b[1;32m   (...)\u001b[0m\n\u001b[0;32m   4009\u001b[0m \n\u001b[0;32m   4010\u001b[0m \u001b[39m    \"\"\"\u001b[39;00m\n\u001b[1;32m-> 4011\u001b[0m     n \u001b[39m=\u001b[39m \u001b[39mlen\u001b[39;49m(x)\n\u001b[0;32m   4012\u001b[0m     \u001b[39mif\u001b[39;00m n \u001b[39m!=\u001b[39m \u001b[39mlen\u001b[39m(y):\n\u001b[0;32m   4013\u001b[0m         \u001b[39mraise\u001b[39;00m \u001b[39mValueError\u001b[39;00m(\u001b[39m'\u001b[39m\u001b[39mx and y must have the same length.\u001b[39m\u001b[39m'\u001b[39m)\n",
      "\u001b[1;31mTypeError\u001b[0m: object of type 'numpy.float64' has no len()"
     ]
    }
   ],
   "source": [
    "import numpy as np\n",
    "from scipy.stats import pearsonr\n",
    "\n",
    "def bell_inequality(state):\n",
    "  \"\"\"\n",
    "  This function tests Bell's inequality for a given state.\n",
    "\n",
    "  Args:\n",
    "    state: A quantum state.\n",
    "\n",
    "  Returns:\n",
    "    A boolean value indicating whether or not Bell's inequality is violated.\n",
    "  \"\"\"\n",
    "\n",
    "  # Calculate the correlation between the two measurements.\n",
    "  correlation = pearsonr(state[0], state[1])[0]\n",
    "\n",
    "  # Calculate the S parameter.\n",
    "  S = 2 * correlation - 1\n",
    "\n",
    "  # Return whether or not Bell's inequality is violated.\n",
    "  return S\n",
    "\n",
    "def main():\n",
    "  # Create a non-entangled state.\n",
    "  non_entangled_state = np.array([1 / np.sqrt(2), 1 / np.sqrt(2)])\n",
    "\n",
    "  # Create a partially entangled state.\n",
    "  partially_entangled_state = np.array([1 / np.sqrt(2), 1 / np.sqrt(2), 1 / np.sqrt(2), -1 / np.sqrt(2)])\n",
    "\n",
    "  # Create a maximally entangled state.\n",
    "  maximally_entangled_state = np.array([1 / np.sqrt(2), 1 / np.sqrt(2), -1 / np.sqrt(2), -1 / np.sqrt(2)])\n",
    "\n",
    "  # Test Bell's inequality for each state.\n",
    "  non_entangled_violation = bell_inequality(non_entangled_state)\n",
    "  partially_entangled_violation = bell_inequality(partially_entangled_state)\n",
    "  maximally_entangled_violation = bell_inequality(maximally_entangled_state)\n",
    "\n",
    "  # Print the results.\n",
    "  print(\"Non-entangled state:\", non_entangled_violation)\n",
    "  print(\"Partially entangled state:\", partially_entangled_violation)\n",
    "  print(\"Maximally entangled state:\", maximally_entangled_violation)\n",
    "\n",
    "if __name__ == \"__main__\":\n",
    "  main()"
   ]
  },
  {
   "cell_type": "code",
   "execution_count": 2,
   "metadata": {},
   "outputs": [
    {
     "name": "stdout",
     "output_type": "stream",
     "text": [
      "Non-entangled state: nan\n",
      "Partially entangled state: nan\n",
      "Maximally entangled state: nan\n"
     ]
    },
    {
     "name": "stderr",
     "output_type": "stream",
     "text": [
      "c:\\ProgramData\\Anaconda3\\lib\\site-packages\\numpy\\lib\\function_base.py:2683: RuntimeWarning: Degrees of freedom <= 0 for slice\n",
      "  c = cov(x, y, rowvar, dtype=dtype)\n",
      "c:\\ProgramData\\Anaconda3\\lib\\site-packages\\numpy\\lib\\function_base.py:2542: RuntimeWarning: divide by zero encountered in true_divide\n",
      "  c *= np.true_divide(1, fact)\n",
      "c:\\ProgramData\\Anaconda3\\lib\\site-packages\\numpy\\lib\\function_base.py:2542: RuntimeWarning: invalid value encountered in multiply\n",
      "  c *= np.true_divide(1, fact)\n"
     ]
    }
   ],
   "source": [
    "import numpy as np\n",
    "\n",
    "def bell_inequality(state):\n",
    "  \"\"\"\n",
    "  This function tests Bell's inequality for a given state.\n",
    "\n",
    "  Args:\n",
    "    state: A quantum state.\n",
    "\n",
    "  Returns:\n",
    "    A boolean value indicating whether or not Bell's inequality is violated.\n",
    "  \"\"\"\n",
    "\n",
    "  # Calculate the correlation between the two measurements.\n",
    "  correlation = np.corrcoef(state[0], state[1])[0, 1]\n",
    "\n",
    "  # Calculate the S parameter.\n",
    "  S = 2 * correlation - 1\n",
    "\n",
    "  # Return whether or not Bell's inequality is violated.\n",
    "  return S > 2\n",
    "\n",
    "def main():\n",
    "  # Create a non-entangled state.\n",
    "  non_entangled_state = np.array([1 / np.sqrt(2), 1 / np.sqrt(2)])\n",
    "\n",
    "  # Create a partially entangled state.\n",
    "  partially_entangled_state = np.array([1 / np.sqrt(2), 1 / np.sqrt(2), 1 / np.sqrt(2), -1 / np.sqrt(2)])\n",
    "\n",
    "  # Create a maximally entangled state.\n",
    "  maximally_entangled_state = np.array([1 / np.sqrt(2), 1 / np.sqrt(2), -1 / np.sqrt(2), -1 / np.sqrt(2)])\n",
    "\n",
    "  # Test Bell's inequality for each state.\n",
    "  non_entangled_violation = bell_inequality(non_entangled_state)\n",
    "  partially_entangled_violation = bell_inequality(partially_entangled_state)\n",
    "  maximally_entangled_violation = bell_inequality(maximally_entangled_state)\n",
    "\n",
    "  # Print the results.\n",
    "  print(\"Non-entangled state:\", non_entangled_violation)\n",
    "  print(\"Partially entangled state:\", partially_entangled_violation)\n",
    "  print(\"Maximally entangled state:\", maximally_entangled_violation)\n",
    "\n",
    "if __name__ == \"__main__\":\n",
    "  main()"
   ]
  }
 ],
 "metadata": {
  "kernelspec": {
   "display_name": "base",
   "language": "python",
   "name": "python3"
  },
  "language_info": {
   "codemirror_mode": {
    "name": "ipython",
    "version": 3
   },
   "file_extension": ".py",
   "mimetype": "text/x-python",
   "name": "python",
   "nbconvert_exporter": "python",
   "pygments_lexer": "ipython3",
   "version": "3.9.12"
  },
  "orig_nbformat": 4
 },
 "nbformat": 4,
 "nbformat_minor": 2
}
