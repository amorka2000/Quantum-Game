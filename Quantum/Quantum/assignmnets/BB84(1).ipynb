{
 "cells": [
  {
   "cell_type": "code",
   "execution_count": 32,
   "id": "f1ad4e84",
   "metadata": {},
   "outputs": [
    {
     "name": "stdout",
     "output_type": "stream",
     "text": [
      "Alice's State: [1 1 1 0 0 1 0 0 0 0 1 1 1 1 1 1 0 1 0 0 1 1 0 1 0 1 1 0 1 0 1 0]\n",
      "Alice's Bases: [0 1 0 0 1 0 1 0 1 0 0 0 0 0 1 1 1 0 0 1 0 0 0 0 0 1 0 1 0 1 0 0]\n",
      "Bob's Bases: [1 1 0 0 1 0 1 0 0 1 1 0 0 1 0 0 0 0 0 0 1 0 0 1 1 0 0 0 0 1 0 1]\n"
     ]
    }
   ],
   "source": [
    "import numpy as np\n",
    "from qiskit import QuantumCircuit,QuantumRegister,ClassicalRegister, assemble,Aer, execute\n",
    "from qiskit_aer import AerSimulator\n",
    "num_qubits = 32\n",
    "\n",
    "alice_basis = np.random.randint(2, size=num_qubits)\n",
    "alice_state = np.random.randint(2, size=num_qubits)\n",
    "bob_basis = np.random.randint(2, size=num_qubits)\n",
    "\n",
    "print(f\"Alice's State: {np.array2string(alice_state)}\")\n",
    "print(f\"Alice's Bases: {np.array2string(alice_basis)}\")\n",
    "print(f\"Bob's Bases: {np.array2string(bob_basis)}\")"
   ]
  },
  {
   "cell_type": "code",
   "execution_count": 70,
   "id": "7b0c2f7e",
   "metadata": {},
   "outputs": [],
   "source": [
    "def bb84_circuit(state, basis, measurement_basis):\n",
    "   \n",
    "    #state: array of 0s and 1s denoting the message to be encoded\n",
    "    #basis: array of 0s and 1s denoting the basis to be used for encoding\n",
    "                #0 -> Computational Z Basis\n",
    "                #1 -> Hadamard X Basis\n",
    "    #meas_basis: array of 0s and 1s denoting the basis to be used for measurement\n",
    "                #0 -> Computational Z Basis\n",
    "                #1 -> Hadamard X Basis\n",
    "   \n",
    "    num_qubits = len(state)\n",
    "    \n",
    "    q =  QuantumRegister(num_qubits,\"q\") # quantum register with 2 qubits\n",
    "        \n",
    "    circuit = QuantumCircuit(q)\n",
    "\n",
    "    \n",
    "    for i in range(len(basis)):\n",
    "        # Alice prepares qubits\n",
    "        if state[i] == 1:\n",
    "            circuit.x(q[i])\n",
    "        # Alice chooses basis\n",
    "        if basis[i] == 1:\n",
    "            circuit.h(q[i])\n",
    "            \n",
    "            \n",
    "        # The action of sending the qubits over the quantum channel goes here\n",
    "        #ADD YOUR CODE HERE\n",
    "        \n",
    "        # Bob chooses measurement basis\n",
    "        if measurement_basis[i] == 1:\n",
    "            circuit.h(q[i])\n",
    "   \n",
    "\n",
    "    circuit.measure_all()\n",
    "\n",
    "       \n",
    "    \n",
    "    \n",
    "    return circuit"
   ]
  },
  {
   "cell_type": "code",
   "execution_count": 71,
   "id": "b566080a",
   "metadata": {},
   "outputs": [],
   "source": [
    "circuit = bb84_circuit(alice_state, alice_basis, bob_basis)\n"
   ]
  },
  {
   "cell_type": "code",
   "execution_count": 72,
   "id": "25217999",
   "metadata": {},
   "outputs": [],
   "source": [
    "job = execute(circuit,Aer.get_backend('qasm_simulator'),shots=1)\n",
    "counts = job.result().get_counts(circuit)\n",
    "#SHARED KEY AFTER COMMUNICATION OVER QUNATUM CHANNEL\n",
    "shared_key=list(counts.keys())[0]"
   ]
  },
  {
   "cell_type": "code",
   "execution_count": 73,
   "id": "eef754c3",
   "metadata": {},
   "outputs": [],
   "source": [
    "#SIFTING THE KEY\n",
    "sifted_key=list()\n",
    "correct_locations=list()\n",
    "for i in range(len(alice_basis)):\n",
    "    if(alice_basis[i]== bob_basis[i]):\n",
    "        sifted_key.append(shared_key[i])\n",
    "        correct_locations.append(i)\n",
    "\n"
   ]
  },
  {
   "cell_type": "code",
   "execution_count": null,
   "id": "9b15c3ed",
   "metadata": {},
   "outputs": [],
   "source": [
    "#ERROR ESTIMATION\n",
    "#ADD YOUR CODE HERE"
   ]
  }
 ],
 "metadata": {
  "kernelspec": {
   "display_name": "Python 3 (ipykernel)",
   "language": "python",
   "name": "python3"
  },
  "language_info": {
   "codemirror_mode": {
    "name": "ipython",
    "version": 3
   },
   "file_extension": ".py",
   "mimetype": "text/x-python",
   "name": "python",
   "nbconvert_exporter": "python",
   "pygments_lexer": "ipython3",
   "version": "3.10.0"
  }
 },
 "nbformat": 4,
 "nbformat_minor": 5
}
